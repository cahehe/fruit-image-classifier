{
  "nbformat": 4,
  "nbformat_minor": 0,
  "metadata": {
    "colab": {
      "provenance": [],
      "toc_visible": true,
      "authorship_tag": "ABX9TyOoCAta9nrN5jlHGyDgIkjP",
      "include_colab_link": true
    },
    "kernelspec": {
      "name": "python3",
      "display_name": "Python 3"
    },
    "language_info": {
      "name": "python"
    }
  },
  "cells": [
    {
      "cell_type": "markdown",
      "metadata": {
        "id": "view-in-github",
        "colab_type": "text"
      },
      "source": [
        "<a href=\"https://colab.research.google.com/github/cahehe/fruit-image-classifier/blob/mount-generate-csv/Mount_csv.ipynb\" target=\"_parent\"><img src=\"https://colab.research.google.com/assets/colab-badge.svg\" alt=\"Open In Colab\"/></a>"
      ]
    },
    {
      "cell_type": "code",
      "execution_count": 6,
      "metadata": {
        "colab": {
          "base_uri": "https://localhost:8080/"
        },
        "id": "qFKruexfRGYV",
        "outputId": "0c49063b-a600-49e9-cdbf-5f7759e30a29"
      },
      "outputs": [
        {
          "output_type": "stream",
          "name": "stdout",
          "text": [
            "Drive already mounted at /content/drive; to attempt to forcibly remount, call drive.mount(\"/content/drive\", force_remount=True).\n",
            "/content/drive/MyDrive/Colab Notebooks/Projects/Fruits Image Classifier/Fruits-360/fruits-360_100x100/fruits-360\n"
          ]
        }
      ],
      "source": [
        "from google.colab import drive\n",
        "drive.mount('/content/drive')\n",
        "%cd /content/drive/MyDrive/Colab Notebooks/Projects/Fruits Image Classifier/fruit-image-classifier"
      ]
    },
    {
      "cell_type": "code",
      "source": [
        "import os\n",
        "import pandas as pd\n",
        "\n",
        "def generate_csv_from_fruits360(base_dir, output_csv=\"fruits360_data.csv\"):\n",
        "    \"\"\"\n",
        "    Create a CSV with file paths, labels, and split info from Fruits360 dataset.\n",
        "    - base_dir should point to fruits-360_100x100 (or other variant).\n",
        "    \"\"\"\n",
        "    records = []  # will hold [filepath, label, split]\n",
        "    seen = set()\n",
        "    # The dataset has 2 main splits\n",
        "    for split in [\"Training\", \"Test\"]:\n",
        "        split_dir = os.path.join(base_dir, split)  # e.g. \".../fruits-360_100x100/Training\"\n",
        "\n",
        "        # Each label is a folder, like \"Apple Golden 1\"\n",
        "        for label in os.listdir(split_dir):\n",
        "            label_dir = os.path.join(split_dir, label)\n",
        "\n",
        "            if not os.path.isdir(label_dir):\n",
        "                continue  # skip files, we only want folders\n",
        "            #seen.add(\"label dir:{}\\n\".format(label_dir))\n",
        "            # Loop over all images in that label folder\n",
        "            for fname in os.listdir(label_dir):\n",
        "                #print('label_dir:{}  fname:{}'.format(label_dir, fname))\n",
        "                if fname.lower().endswith((\".png\", \".jpg\", \".jpeg\")):\n",
        "                    #print('label_dir:{}  fname:{}'.format(label_dir, fname))\n",
        "                    filepath = os.path.join(label_dir, fname)\n",
        "                    records.append([filepath, label, split])\n",
        "\n",
        "    # Create dataframe (like Excel table)\n",
        "    df = pd.DataFrame(records, columns=[\"filepath\", \"label\", \"split\"])\n",
        "    #print(\"fruits:{}\".format(seen))\n",
        "    #print(\"records:{}\".format(records))\n",
        "    # Save to CSV\n",
        "    #path - /content/drive/MyDrive/Colab Notebooks/Projects/Fruits Image Classifier/fruit-image-classifier\n",
        "    df.to_csv(output_csv, index=False)\n",
        "    print(f\"CSV saved to {output_csv}, total rows: {len(df)}\")\n",
        "\n",
        "    return df\n",
        "\n",
        "\n",
        "# Example usage: change to match your tree\n",
        "base_dir = \"/content/drive/MyDrive/Colab Notebooks/Projects/Fruits Image Classifier/Fruits-360/fruits-360_100x100/fruits-360\"\n",
        "df = generate_csv_from_fruits360(base_dir)\n",
        "\n",
        "# Show first 5 rows\n",
        "print(df.head())\n"
      ],
      "metadata": {
        "colab": {
          "base_uri": "https://localhost:8080/"
        },
        "id": "uodHdJxa7FzF",
        "outputId": "3398027b-c7e0-4fbb-ddad-f0e2a4e71a99"
      },
      "execution_count": 12,
      "outputs": [
        {
          "output_type": "stream",
          "name": "stdout",
          "text": [
            "CSV saved to fruits360_data.csv, total rows: 149569\n",
            "                                            filepath     label     split\n",
            "0  /content/drive/MyDrive/Colab Notebooks/Project...  Tomato 4  Training\n",
            "1  /content/drive/MyDrive/Colab Notebooks/Project...  Tomato 4  Training\n",
            "2  /content/drive/MyDrive/Colab Notebooks/Project...  Tomato 4  Training\n",
            "3  /content/drive/MyDrive/Colab Notebooks/Project...  Tomato 4  Training\n",
            "4  /content/drive/MyDrive/Colab Notebooks/Project...  Tomato 4  Training\n"
          ]
        }
      ]
    },
    {
      "cell_type": "code",
      "source": [
        "%pwd\n"
      ],
      "metadata": {
        "colab": {
          "base_uri": "https://localhost:8080/",
          "height": 35
        },
        "id": "Z86BcbD6_uU1",
        "outputId": "bcc4e813-ec28-4ca1-9f1f-c9db18333fcf"
      },
      "execution_count": 11,
      "outputs": [
        {
          "output_type": "execute_result",
          "data": {
            "text/plain": [
              "'/content/drive/MyDrive/Colab Notebooks/Projects/Fruits Image Classifier/fruit-image-classifier'"
            ],
            "application/vnd.google.colaboratory.intrinsic+json": {
              "type": "string"
            }
          },
          "metadata": {},
          "execution_count": 11
        }
      ]
    }
  ]
}