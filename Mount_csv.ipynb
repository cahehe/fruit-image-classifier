{
  "nbformat": 4,
  "nbformat_minor": 0,
  "metadata": {
    "colab": {
      "provenance": [],
      "toc_visible": true,
      "authorship_tag": "ABX9TyMoNrJjByOojiY+fYRlGcFV",
      "include_colab_link": true
    },
    "kernelspec": {
      "name": "python3",
      "display_name": "Python 3"
    },
    "language_info": {
      "name": "python"
    }
  },
  "cells": [
    {
      "cell_type": "markdown",
      "metadata": {
        "id": "view-in-github",
        "colab_type": "text"
      },
      "source": [
        "<a href=\"https://colab.research.google.com/github/cahehe/fruit-image-classifier/blob/mount-generate-csv/Mount_csv.ipynb\" target=\"_parent\"><img src=\"https://colab.research.google.com/assets/colab-badge.svg\" alt=\"Open In Colab\"/></a>"
      ]
    },
    {
      "cell_type": "code",
      "execution_count": 5,
      "metadata": {
        "colab": {
          "base_uri": "https://localhost:8080/"
        },
        "id": "qFKruexfRGYV",
        "outputId": "c25293ca-b580-4ca5-928d-4cd11cf63e53"
      },
      "outputs": [
        {
          "output_type": "stream",
          "name": "stdout",
          "text": [
            "Mounted at /content/drive\n"
          ]
        }
      ],
      "source": [
        "from google.colab import drive\n",
        "drive.mount('/content/drive')"
      ]
    },
    {
      "cell_type": "code",
      "source": [
        "import os\n",
        "import pandas as pd\n",
        "\n",
        "def generate_csv_from_fruits360(base_dir, output_csv=\"fruits360_data.csv\"):\n",
        "    \"\"\"\n",
        "    Create a CSV with file paths, labels, and split info from Fruits360 dataset.\n",
        "    - base_dir should point to fruits-360_100x100 (or other variant).\n",
        "    \"\"\"\n",
        "    records = []  # will hold [filepath, label, split]\n",
        "\n",
        "    # The dataset has 2 main splits\n",
        "    for split in [\"Training\", \"Test\"]:\n",
        "        split_dir = os.path.join(base_dir, split)  # e.g. \".../fruits-360_100x100/Training\"\n",
        "\n",
        "        # Each label is a folder, like \"Apple Golden 1\"\n",
        "        for label in os.listdir(split_dir):\n",
        "            label_dir = os.path.join(split_dir, label)\n",
        "\n",
        "            if not os.path.isdir(label_dir):\n",
        "                continue  # skip files, we only want folders\n",
        "\n",
        "            # Loop over all images in that label folder\n",
        "            for fname in os.listdir(label_dir):\n",
        "                if fname.lower().endswith((\".png\", \".jpg\", \".jpeg\")):\n",
        "                    filepath = os.path.join(label_dir, fname)\n",
        "                    records.append([filepath, label, split])\n",
        "\n",
        "    # Create dataframe (like Excel table)\n",
        "    df = pd.DataFrame(records, columns=[\"filepath\", \"label\", \"split\"])\n",
        "\n",
        "    # Save to CSV\n",
        "    #path - /content/drive/MyDrive/Colab Notebooks/Projects/Fruits Image Classifier/fruit-image-classifier\n",
        "    df.to_csv(output_csv, index=False)\n",
        "    print(f\"CSV saved to {output_csv}, total rows: {len(df)}\")\n",
        "\n",
        "    return df\n",
        "\n",
        "\n",
        "# Example usage: change to match your tree\n",
        "base_dir = \"/content/drive/MyDrive/Colab Notebooks/Projects/Fruits Image Classifier/Fruits-360/fruits-360_100x100/fruits-360\"\n",
        "df = generate_csv_from_fruits360(base_dir)\n",
        "\n",
        "# Show first 5 rows\n",
        "print(df.head())\n"
      ],
      "metadata": {
        "colab": {
          "base_uri": "https://localhost:8080/"
        },
        "id": "uodHdJxa7FzF",
        "outputId": "680bcf96-8e20-4eaa-9e99-5bf9108ced7c"
      },
      "execution_count": 43,
      "outputs": [
        {
          "output_type": "stream",
          "name": "stdout",
          "text": [
            "CSV saved to fruits360_data.csv, total rows: 381\n",
            "                                            filepath          label     split\n",
            "0  /content/drive/MyDrive/Colab Notebooks/Project...  Blackberrie 1  Training\n",
            "1  /content/drive/MyDrive/Colab Notebooks/Project...  Blackberrie 1  Training\n",
            "2  /content/drive/MyDrive/Colab Notebooks/Project...  Blackberrie 1  Training\n",
            "3  /content/drive/MyDrive/Colab Notebooks/Project...  Blackberrie 1  Training\n",
            "4  /content/drive/MyDrive/Colab Notebooks/Project...  Blackberrie 1  Training\n"
          ]
        }
      ]
    }
  ]
}